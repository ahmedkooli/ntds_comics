{
 "cells": [
  {
   "cell_type": "code",
   "execution_count": 113,
   "metadata": {},
   "outputs": [],
   "source": [
    "# Import libraries\n",
    "import matplotlib.pyplot as plt\n",
    "import pandas as pd\n",
    "import numpy as np\n",
    "import pickle"
   ]
  },
  {
   "cell_type": "markdown",
   "metadata": {},
   "source": [
    "# Adjacency Processing\n",
    "\n",
    "**In this notebook, we want to generate the CSV files to run Gephi and produce nice graphs by applying the theory we learn there**"
   ]
  },
  {
   "cell_type": "markdown",
   "metadata": {},
   "source": [
    "# Part 1: Marvel dataset"
   ]
  },
  {
   "cell_type": "markdown",
   "metadata": {},
   "source": [
    "**First we will produces a CSV file with name and the URL (ID)**"
   ]
  },
  {
   "cell_type": "code",
   "execution_count": 114,
   "metadata": {},
   "outputs": [],
   "source": [
    "with open('data/clean_marvel.txt', 'rb') as f:\n",
    "    characters_marvel = pickle.load(f)"
   ]
  },
  {
   "cell_type": "markdown",
   "metadata": {},
   "source": [
    "**We create a label base on the `Real Name` and the `Current Alias`.**"
   ]
  },
  {
   "cell_type": "code",
   "execution_count": 102,
   "metadata": {},
   "outputs": [
    {
     "data": {
      "text/html": [
       "<div>\n",
       "<style scoped>\n",
       "    .dataframe tbody tr th:only-of-type {\n",
       "        vertical-align: middle;\n",
       "    }\n",
       "\n",
       "    .dataframe tbody tr th {\n",
       "        vertical-align: top;\n",
       "    }\n",
       "\n",
       "    .dataframe thead th {\n",
       "        text-align: right;\n",
       "    }\n",
       "</style>\n",
       "<table border=\"1\" class=\"dataframe\">\n",
       "  <thead>\n",
       "    <tr style=\"text-align: right;\">\n",
       "      <th></th>\n",
       "      <th>URL</th>\n",
       "      <th>Real Name</th>\n",
       "      <th>Current Alias</th>\n",
       "      <th>Relatives</th>\n",
       "      <th>Affiliation</th>\n",
       "      <th>Subcomic URL</th>\n",
       "      <th>First appearance</th>\n",
       "      <th>Last appearance</th>\n",
       "      <th>Label</th>\n",
       "    </tr>\n",
       "  </thead>\n",
       "  <tbody>\n",
       "    <tr>\n",
       "      <td>0</td>\n",
       "      <td>/wiki/Aaron_Fox_(Earth-616)</td>\n",
       "      <td>Aaron Fox</td>\n",
       "      <td>Unknown</td>\n",
       "      <td>[/wiki/Beth_Fox_(Earth-616)]</td>\n",
       "      <td>[]</td>\n",
       "      <td>[/wiki/Legion_of_Monsters_Vol_1_1Manphibian: V...</td>\n",
       "      <td>1975</td>\n",
       "      <td>1975</td>\n",
       "      <td>Aaron Fox (Unknown)</td>\n",
       "    </tr>\n",
       "    <tr>\n",
       "      <td>1</td>\n",
       "      <td>/wiki/Acrobat_(1940s)_(Earth-616)</td>\n",
       "      <td>Unknown</td>\n",
       "      <td>Acrobat</td>\n",
       "      <td>[]</td>\n",
       "      <td>[]</td>\n",
       "      <td>[/wiki/Captain_America_Comics_Vol_1_64Death Is...</td>\n",
       "      <td>1947</td>\n",
       "      <td>1947</td>\n",
       "      <td>Unknown (Acrobat)</td>\n",
       "    </tr>\n",
       "    <tr>\n",
       "      <td>2</td>\n",
       "      <td>/wiki/Abigail_Mercury_(Clone)_(Earth-616)</td>\n",
       "      <td>Abigail Mercury</td>\n",
       "      <td>Unknown</td>\n",
       "      <td>[/wiki/Abigail_Mercury_(Earth-616)]</td>\n",
       "      <td>[]</td>\n",
       "      <td>[/wiki/Ben_Reilly:_Scarlet_Spider_Vol_1_1st st...</td>\n",
       "      <td>2017</td>\n",
       "      <td>2017</td>\n",
       "      <td>Abigail Mercury (Unknown)</td>\n",
       "    </tr>\n",
       "    <tr>\n",
       "      <td>3</td>\n",
       "      <td>/wiki/Ace_Maxwell_(Earth-616)</td>\n",
       "      <td>Ace Maxwell</td>\n",
       "      <td>Unknown</td>\n",
       "      <td>[]</td>\n",
       "      <td>[]</td>\n",
       "      <td>[/wiki/Human_Torch_Comics_Vol_1_22The Fatal Fi...</td>\n",
       "      <td>1946</td>\n",
       "      <td>1946</td>\n",
       "      <td>Ace Maxwell (Unknown)</td>\n",
       "    </tr>\n",
       "    <tr>\n",
       "      <td>4</td>\n",
       "      <td>/wiki/Abigail_Boylen_(Earth-616)</td>\n",
       "      <td>Abigail \"Abby\" Boylen</td>\n",
       "      <td>Cloud 9</td>\n",
       "      <td>[]</td>\n",
       "      <td>[/wiki/Champions_(Earth-616), /wiki/Undergroun...</td>\n",
       "      <td>[/wiki/Mighty_Avengers_Vol_1_1The Mighty Aveng...</td>\n",
       "      <td>2007</td>\n",
       "      <td>2019</td>\n",
       "      <td>Abigail \"Abby\" Boylen (Cloud 9)</td>\n",
       "    </tr>\n",
       "    <tr>\n",
       "      <td>...</td>\n",
       "      <td>...</td>\n",
       "      <td>...</td>\n",
       "      <td>...</td>\n",
       "      <td>...</td>\n",
       "      <td>...</td>\n",
       "      <td>...</td>\n",
       "      <td>...</td>\n",
       "      <td>...</td>\n",
       "      <td>...</td>\n",
       "    </tr>\n",
       "    <tr>\n",
       "      <td>26877</td>\n",
       "      <td>/wiki/Zzzyclone_(Warp_World)_(Earth-616)</td>\n",
       "      <td>Zzzyclone</td>\n",
       "      <td>Unknown</td>\n",
       "      <td>[]</td>\n",
       "      <td>[]</td>\n",
       "      <td>[/wiki/Secret_Warps:_Soldier_Supreme_Annual_Vo...</td>\n",
       "      <td>2019</td>\n",
       "      <td>2019</td>\n",
       "      <td>Zzzyclone (Unknown)</td>\n",
       "    </tr>\n",
       "    <tr>\n",
       "      <td>26878</td>\n",
       "      <td>/wiki/Zuhn_(Earth-616)</td>\n",
       "      <td>Zuhn</td>\n",
       "      <td>Chimera</td>\n",
       "      <td>[]</td>\n",
       "      <td>[]</td>\n",
       "      <td>[/wiki/Marvel:_The_Lost_Generation_Vol_1_4Ligh...</td>\n",
       "      <td>2000</td>\n",
       "      <td>2001</td>\n",
       "      <td>Zuhn (Chimera)</td>\n",
       "    </tr>\n",
       "    <tr>\n",
       "      <td>26879</td>\n",
       "      <td>/wiki/Zxaxz_(Earth-616)</td>\n",
       "      <td>Zxaxz</td>\n",
       "      <td>Unknown</td>\n",
       "      <td>[]</td>\n",
       "      <td>[]</td>\n",
       "      <td>[/wiki/Spellbound_Vol_2_2Nightmare!, /wiki/Spe...</td>\n",
       "      <td>1988</td>\n",
       "      <td>2010</td>\n",
       "      <td>Zxaxz (Unknown)</td>\n",
       "    </tr>\n",
       "    <tr>\n",
       "      <td>26880</td>\n",
       "      <td>/wiki/Zuwena_(Earth-616)</td>\n",
       "      <td>Zuwena</td>\n",
       "      <td>Unknown</td>\n",
       "      <td>[]</td>\n",
       "      <td>[/wiki/Elephant%27s_Trunk_(Earth-616)]</td>\n",
       "      <td>[/wiki/Marvel_Universe_Magazine_Fall_Vol_1_1Th...</td>\n",
       "      <td>2018</td>\n",
       "      <td>2019</td>\n",
       "      <td>Zuwena (Unknown)</td>\n",
       "    </tr>\n",
       "    <tr>\n",
       "      <td>26881</td>\n",
       "      <td>/wiki/Zurvan_(Earth-616)</td>\n",
       "      <td>Zurvan</td>\n",
       "      <td>Unknown</td>\n",
       "      <td>[/wiki/Ahura_Mazda_(Earth-616), /wiki/Ahriman_...</td>\n",
       "      <td>[]</td>\n",
       "      <td>[/wiki/Immortal_Hulk_Vol_1_12All On That Day]</td>\n",
       "      <td>2019</td>\n",
       "      <td>2019</td>\n",
       "      <td>Zurvan (Unknown)</td>\n",
       "    </tr>\n",
       "  </tbody>\n",
       "</table>\n",
       "<p>26882 rows × 9 columns</p>\n",
       "</div>"
      ],
      "text/plain": [
       "                                             URL              Real Name  \\\n",
       "0                    /wiki/Aaron_Fox_(Earth-616)              Aaron Fox   \n",
       "1              /wiki/Acrobat_(1940s)_(Earth-616)                Unknown   \n",
       "2      /wiki/Abigail_Mercury_(Clone)_(Earth-616)        Abigail Mercury   \n",
       "3                  /wiki/Ace_Maxwell_(Earth-616)            Ace Maxwell   \n",
       "4               /wiki/Abigail_Boylen_(Earth-616)  Abigail \"Abby\" Boylen   \n",
       "...                                          ...                    ...   \n",
       "26877   /wiki/Zzzyclone_(Warp_World)_(Earth-616)              Zzzyclone   \n",
       "26878                     /wiki/Zuhn_(Earth-616)                   Zuhn   \n",
       "26879                    /wiki/Zxaxz_(Earth-616)                  Zxaxz   \n",
       "26880                   /wiki/Zuwena_(Earth-616)                 Zuwena   \n",
       "26881                   /wiki/Zurvan_(Earth-616)                 Zurvan   \n",
       "\n",
       "      Current Alias                                          Relatives  \\\n",
       "0           Unknown                       [/wiki/Beth_Fox_(Earth-616)]   \n",
       "1           Acrobat                                                 []   \n",
       "2           Unknown                [/wiki/Abigail_Mercury_(Earth-616)]   \n",
       "3           Unknown                                                 []   \n",
       "4           Cloud 9                                                 []   \n",
       "...             ...                                                ...   \n",
       "26877       Unknown                                                 []   \n",
       "26878       Chimera                                                 []   \n",
       "26879       Unknown                                                 []   \n",
       "26880       Unknown                                                 []   \n",
       "26881       Unknown  [/wiki/Ahura_Mazda_(Earth-616), /wiki/Ahriman_...   \n",
       "\n",
       "                                             Affiliation  \\\n",
       "0                                                     []   \n",
       "1                                                     []   \n",
       "2                                                     []   \n",
       "3                                                     []   \n",
       "4      [/wiki/Champions_(Earth-616), /wiki/Undergroun...   \n",
       "...                                                  ...   \n",
       "26877                                                 []   \n",
       "26878                                                 []   \n",
       "26879                                                 []   \n",
       "26880             [/wiki/Elephant%27s_Trunk_(Earth-616)]   \n",
       "26881                                                 []   \n",
       "\n",
       "                                            Subcomic URL  First appearance  \\\n",
       "0      [/wiki/Legion_of_Monsters_Vol_1_1Manphibian: V...              1975   \n",
       "1      [/wiki/Captain_America_Comics_Vol_1_64Death Is...              1947   \n",
       "2      [/wiki/Ben_Reilly:_Scarlet_Spider_Vol_1_1st st...              2017   \n",
       "3      [/wiki/Human_Torch_Comics_Vol_1_22The Fatal Fi...              1946   \n",
       "4      [/wiki/Mighty_Avengers_Vol_1_1The Mighty Aveng...              2007   \n",
       "...                                                  ...               ...   \n",
       "26877  [/wiki/Secret_Warps:_Soldier_Supreme_Annual_Vo...              2019   \n",
       "26878  [/wiki/Marvel:_The_Lost_Generation_Vol_1_4Ligh...              2000   \n",
       "26879  [/wiki/Spellbound_Vol_2_2Nightmare!, /wiki/Spe...              1988   \n",
       "26880  [/wiki/Marvel_Universe_Magazine_Fall_Vol_1_1Th...              2018   \n",
       "26881      [/wiki/Immortal_Hulk_Vol_1_12All On That Day]              2019   \n",
       "\n",
       "       Last appearance                            Label  \n",
       "0                 1975              Aaron Fox (Unknown)  \n",
       "1                 1947                Unknown (Acrobat)  \n",
       "2                 2017        Abigail Mercury (Unknown)  \n",
       "3                 1946            Ace Maxwell (Unknown)  \n",
       "4                 2019  Abigail \"Abby\" Boylen (Cloud 9)  \n",
       "...                ...                              ...  \n",
       "26877             2019              Zzzyclone (Unknown)  \n",
       "26878             2001                   Zuhn (Chimera)  \n",
       "26879             2010                  Zxaxz (Unknown)  \n",
       "26880             2019                 Zuwena (Unknown)  \n",
       "26881             2019                 Zurvan (Unknown)  \n",
       "\n",
       "[26882 rows x 9 columns]"
      ]
     },
     "execution_count": 102,
     "metadata": {},
     "output_type": "execute_result"
    }
   ],
   "source": [
    "characters_marvel[\"Label\"]= characters_marvel[\"Real Name\"] +\" (\" + characters_marvel[\"Current Alias\"] + \")\"\n",
    "characters_marvel"
   ]
  },
  {
   "cell_type": "markdown",
   "metadata": {},
   "source": [
    "**We only keep the columns that interest us. Then we save it as CSV file**"
   ]
  },
  {
   "cell_type": "code",
   "execution_count": 103,
   "metadata": {},
   "outputs": [],
   "source": [
    "characters_marvel = characters_marvel[[\"URL\",\"Label\"]]\n",
    "characters_marvel.columns = [\"Id\",\"Label\"]\n",
    "characters_marvel.to_csv(\"nodes_marvel.csv\",index = False)"
   ]
  },
  {
   "cell_type": "markdown",
   "metadata": {},
   "source": [
    "### Part 1.1: Relatives"
   ]
  },
  {
   "cell_type": "markdown",
   "metadata": {},
   "source": [
    "**As we will do same process to save the edges we build a function for it.**"
   ]
  },
  {
   "cell_type": "code",
   "execution_count": 104,
   "metadata": {},
   "outputs": [],
   "source": [
    "def save_edge(universe, attribute, year):\n",
    "    if year is not \"\":\n",
    "        file_source = \"data/adj_\" + attribute + \"_\" + universe + \"_\" + year +\".txt\"\n",
    "        file_dest = \"data/edge_\" + attribute + \"_\" + universe + \"_\" + year + \".csv\"\n",
    "    else:\n",
    "        file_source = \"data/adj_\" + attribute + \"_\" + universe + \".txt\"\n",
    "        file_dest = \"data/edge_\" + attribute + \"_\" + universe + \".csv\"\n",
    "    with open(file_source, 'rb') as f:\n",
    "        adj = pickle.load(f)\n",
    "    np.fill_diagonal(adj.values, 0)\n",
    "    the_list = []\n",
    "    for source in adj.index:\n",
    "        for target in adj[adj[source]>0].index:\n",
    "            # Only lower triangular part of the matrix\n",
    "            if adj.index.get_loc(source) < adj.index.get_loc(target):\n",
    "                the_list.append([source, target, adj.loc[source,target]])\n",
    "    edge = pd.DataFrame(the_list, columns=['Source','Target', 'Weight'])\n",
    "    edge.insert(2, 'Type', 'Undirected')\n",
    "    edge\n",
    "    edge.to_csv(file_dest,index = False)"
   ]
  },
  {
   "cell_type": "markdown",
   "metadata": {},
   "source": [
    "**We apply this function for the selected year**"
   ]
  },
  {
   "cell_type": "code",
   "execution_count": 70,
   "metadata": {},
   "outputs": [],
   "source": [
    "save_edge(\"marvel\",\"relat\",\"50\")\n",
    "save_edge(\"marvel\",\"relat\",\"90\")\n",
    "save_edge(\"marvel\",\"relat\",\"\")"
   ]
  },
  {
   "cell_type": "markdown",
   "metadata": {},
   "source": [
    "### Part 1.2: Affiliations"
   ]
  },
  {
   "cell_type": "code",
   "execution_count": 71,
   "metadata": {},
   "outputs": [],
   "source": [
    "save_edge(\"marvel\",\"aff\",\"50\")\n",
    "save_edge(\"marvel\",\"aff\",\"90\")\n",
    "save_edge(\"marvel\",\"aff\",\"\")"
   ]
  },
  {
   "cell_type": "markdown",
   "metadata": {},
   "source": [
    "### Part 1.3: Comics"
   ]
  },
  {
   "cell_type": "code",
   "execution_count": 72,
   "metadata": {},
   "outputs": [],
   "source": [
    "save_edge(\"marvel\",\"comics\",\"50\")\n",
    "save_edge(\"marvel\",\"comics\",\"90\")\n",
    "save_edge(\"marvel\",\"comics\",\"\")"
   ]
  },
  {
   "cell_type": "markdown",
   "metadata": {},
   "source": [
    "### Part 1.4: Combinaison of all the adjacency matrices"
   ]
  },
  {
   "cell_type": "code",
   "execution_count": 115,
   "metadata": {},
   "outputs": [
    {
     "data": {
      "text/plain": [
       "[<matplotlib.lines.Line2D at 0x7ff6e0268fd0>]"
      ]
     },
     "execution_count": 115,
     "metadata": {},
     "output_type": "execute_result"
    },
    {
     "data": {
      "image/png": "[encoded data removed]",
      "text/plain": [
       "<Figure size 432x288 with 1 Axes>"
      ]
     },
     "metadata": {
      "needs_background": "light"
     },
     "output_type": "display_data"
    }
   ],
   "source": [
    "with open(\"data/adj_relat_marvel.txt\", 'rb') as f:\n",
    "            adj_relat = pickle.load(f)\n",
    "    np.fill_diagonal(adj_relat.values, 0)\n",
    "\n",
    "deg_relat = np.max(adj_relat[adj_relat.index])\n",
    "unique, counts = np.unique(deg_relat, return_counts=True)\n",
    "plt.plot(unique,counts)"
   ]
  },
  {
   "cell_type": "code",
   "execution_count": 116,
   "metadata": {},
   "outputs": [
    {
     "data": {
      "text/plain": [
       "[<matplotlib.lines.Line2D at 0x7ff6e06c0cf8>]"
      ]
     },
     "execution_count": 116,
     "metadata": {},
     "output_type": "execute_result"
    },
    {
     "data": {
      "image/png": "[encoded data removed]",
      "text/plain": [
       "<Figure size 432x288 with 1 Axes>"
      ]
     },
     "metadata": {
      "needs_background": "light"
     },
     "output_type": "display_data"
    }
   ],
   "source": [
    "with open(\"data/adj_aff_marvel.txt\", 'rb') as f:\n",
    "        adj_aff = pickle.load(f)\n",
    "np.fill_diagonal(adj_aff.values, 0)\n",
    "\n",
    "deg_aff = np.max(adj_aff[adj_aff.index])\n",
    "unique, counts = np.unique(deg_aff, return_counts=True)\n",
    "plt.plot(unique,counts)"
   ]
  },
  {
   "cell_type": "code",
   "execution_count": 117,
   "metadata": {},
   "outputs": [
    {
     "data": {
      "text/plain": [
       "[<matplotlib.lines.Line2D at 0x7ff6e070b278>]"
      ]
     },
     "execution_count": 117,
     "metadata": {},
     "output_type": "execute_result"
    },
    {
     "data": {
      "image/png": "[encoded data removed]",
      "text/plain": [
       "<Figure size 432x288 with 1 Axes>"
      ]
     },
     "metadata": {
      "needs_background": "light"
     },
     "output_type": "display_data"
    }
   ],
   "source": [
    "with open(\"data/adj_comics_marvel.txt\", 'rb') as f:\n",
    "        adj_comics = pickle.load(f)\n",
    "np.fill_diagonal(adj_comics.values, 0)\n",
    "\n",
    "deg_comics = np.max(adj_comics[adj_comics.index])\n",
    "unique, counts = np.unique(deg_comics, return_counts=True)\n",
    "plt.semilogy(unique,counts)"
   ]
  },
  {
   "cell_type": "markdown",
   "metadata": {},
   "source": [
    "**Since all the attributes don't have the same maximum value, we decide to normalize the weight by the maximum.**"
   ]
  },
  {
   "cell_type": "code",
   "execution_count": 121,
   "metadata": {},
   "outputs": [],
   "source": [
    "def save_tot_edges(universe, year):\n",
    "    if year is not \"\":\n",
    "        file_source_relat = \"data/adj_relat_\" + universe + \"_\" + year +\".txt\"\n",
    "        file_source_aff = \"data/adj_aff_\" + universe + \"_\" + year +\".txt\"\n",
    "        file_source_comics = \"data/adj_comics_\" + universe + \"_\" + year +\".txt\"\n",
    "        file_dest = \"data/edge_tot_\" + universe + \"_\" + year + \".csv\"\n",
    "    else:\n",
    "        file_source_relat = \"data/adj_relat_\" + universe +\".txt\"\n",
    "        file_source_aff = \"data/adj_aff_\" + universe +\".txt\"\n",
    "        file_source_comics = \"data/adj_comics_\" + universe  +\".txt\"\n",
    "        file_dest = \"data/edge_tot_\" + universe + \".csv\"\n",
    "        \n",
    "    with open(file_source_relat, 'rb') as f:\n",
    "            adj_relat = pickle.load(f)\n",
    "    np.fill_diagonal(adj_relat.values, 0)\n",
    "    \n",
    "    with open(file_source_aff, 'rb') as f:\n",
    "            adj_aff = pickle.load(f)\n",
    "    np.fill_diagonal(adj_aff.values, 0)\n",
    "    \n",
    "    with open(file_source_comics, 'rb') as f:\n",
    "            adj_comics = pickle.load(f)\n",
    "    np.fill_diagonal(adj_comics.values, 0)\n",
    "    \n",
    "    adj_relat_coef = adj_relat/np.max(np.max(adj_relat))\n",
    "    adj_aff_coef = adj_aff/np.max(np.max(adj_aff))\n",
    "    adj_comics_coef = adj_comics/np.max(np.max(adj_comics))\n",
    "    \n",
    "    adj_tot = adj_aff_coef.add(adj_relat_coef, fill_value=0)\n",
    "    adj_tot = adj_tot.add(adj_comics_coef, fill_value=0)\n",
    "    \n",
    "    the_list = []\n",
    "    for source in adj_tot.index:\n",
    "        for target in adj_tot[adj_tot[source]>0].index:\n",
    "            # Only lower triangular part of the matrix\n",
    "            if adj_tot.index.get_loc(source) < adj_tot.index.get_loc(target):\n",
    "                the_list.append([source, target, adj_tot.loc[source,target]])\n",
    "    edge = pd.DataFrame(the_list, columns=['Source','Target', 'Weight'])\n",
    "    edge.insert(2, 'Type', 'Undirected')\n",
    "    edge\n",
    "    edge.to_csv(file_dest,index = False)"
   ]
  },
  {
   "cell_type": "code",
   "execution_count": 123,
   "metadata": {},
   "outputs": [],
   "source": [
    "save_tot_edges(\"marvel\", \"50\")\n",
    "save_tot_edges(\"marvel\", \"90\")\n",
    "save_tot_edges(\"marvel\", \"\")"
   ]
  },
  {
   "cell_type": "markdown",
   "metadata": {},
   "source": [
    "# Part 2: DC dataset"
   ]
  },
  {
   "cell_type": "markdown",
   "metadata": {},
   "source": [
    "**We apply the same process for DC**"
   ]
  },
  {
   "cell_type": "code",
   "execution_count": 63,
   "metadata": {},
   "outputs": [],
   "source": [
    "with open('data/clean_dc.txt', 'rb') as f:\n",
    "    characters_dc = pickle.load(f)"
   ]
  },
  {
   "cell_type": "code",
   "execution_count": 64,
   "metadata": {},
   "outputs": [
    {
     "data": {
      "text/html": [
       "<div>\n",
       "<style scoped>\n",
       "    .dataframe tbody tr th:only-of-type {\n",
       "        vertical-align: middle;\n",
       "    }\n",
       "\n",
       "    .dataframe tbody tr th {\n",
       "        vertical-align: top;\n",
       "    }\n",
       "\n",
       "    .dataframe thead th {\n",
       "        text-align: right;\n",
       "    }\n",
       "</style>\n",
       "<table border=\"1\" class=\"dataframe\">\n",
       "  <thead>\n",
       "    <tr style=\"text-align: right;\">\n",
       "      <th></th>\n",
       "      <th>URL</th>\n",
       "      <th>Real Name</th>\n",
       "      <th>Current Alias</th>\n",
       "      <th>Relatives</th>\n",
       "      <th>Affiliation</th>\n",
       "      <th>Subcomic URL</th>\n",
       "      <th>First appearance</th>\n",
       "      <th>Last appearance</th>\n",
       "      <th>Label</th>\n",
       "    </tr>\n",
       "  </thead>\n",
       "  <tbody>\n",
       "    <tr>\n",
       "      <td>0</td>\n",
       "      <td>/wiki/Aaron_Hayley_(New_Earth)</td>\n",
       "      <td>Aaron Hayley</td>\n",
       "      <td>Swamp Thing</td>\n",
       "      <td>[]</td>\n",
       "      <td>[]</td>\n",
       "      <td>[/wiki/Swamp_Thing:_Rootshe 1st Stor]</td>\n",
       "      <td>1998.0</td>\n",
       "      <td>1998.0</td>\n",
       "      <td>Aaron Hayley (Swamp Thing)</td>\n",
       "    </tr>\n",
       "    <tr>\n",
       "      <td>1</td>\n",
       "      <td>/wiki/Adam_Strange_(JSA:_The_Golden_Age)</td>\n",
       "      <td>Adam Strange</td>\n",
       "      <td>Adam Strange</td>\n",
       "      <td>[]</td>\n",
       "      <td>[]</td>\n",
       "      <td>[/wiki/Golden_Age_Vol_1_4Book 4]</td>\n",
       "      <td>1994.0</td>\n",
       "      <td>1994.0</td>\n",
       "      <td>Adam Strange (Adam Strange)</td>\n",
       "    </tr>\n",
       "    <tr>\n",
       "      <td>2</td>\n",
       "      <td>/wiki/Alan_Barnes_(New_Earth)</td>\n",
       "      <td>Alan Barnes</td>\n",
       "      <td>Brainstorm</td>\n",
       "      <td>[]</td>\n",
       "      <td>[]</td>\n",
       "      <td>[/wiki/S.T.A.R._Corps_Vol_1_6Shooting S.T.A.R....</td>\n",
       "      <td>1994.0</td>\n",
       "      <td>1994.0</td>\n",
       "      <td>Alan Barnes (Brainstorm)</td>\n",
       "    </tr>\n",
       "    <tr>\n",
       "      <td>3</td>\n",
       "      <td>/wiki/Alan_Scott_(Earth_2)</td>\n",
       "      <td>Alan Scott</td>\n",
       "      <td>Green Lantern</td>\n",
       "      <td>[/wiki/Sam_Zhao_(Earth_2)]</td>\n",
       "      <td>[/wiki/Wonders_of_the_World, /wiki/The_Green]</td>\n",
       "      <td>[/wiki/Convergence:_Booster_Gold_Vol_1_2Diverg...</td>\n",
       "      <td>2012.0</td>\n",
       "      <td>2019.0</td>\n",
       "      <td>Alan Scott (Green Lantern)</td>\n",
       "    </tr>\n",
       "    <tr>\n",
       "      <td>4</td>\n",
       "      <td>/wiki/Abigail_Arcane_(New_Earth)</td>\n",
       "      <td>Abigail Arcane</td>\n",
       "      <td>Abigail Arcane</td>\n",
       "      <td>[/wiki/Swamp_Thing_(New_Earth), /wiki/Tef%C3%A...</td>\n",
       "      <td>[]</td>\n",
       "      <td>[/wiki/The_Best_of_DC_Vol_1_52Stopover in a Pl...</td>\n",
       "      <td>1973.0</td>\n",
       "      <td>2006.0</td>\n",
       "      <td>Abigail Arcane (Abigail Arcane)</td>\n",
       "    </tr>\n",
       "    <tr>\n",
       "      <td>...</td>\n",
       "      <td>...</td>\n",
       "      <td>...</td>\n",
       "      <td>...</td>\n",
       "      <td>...</td>\n",
       "      <td>...</td>\n",
       "      <td>...</td>\n",
       "      <td>...</td>\n",
       "      <td>...</td>\n",
       "      <td>...</td>\n",
       "    </tr>\n",
       "    <tr>\n",
       "      <td>13184</td>\n",
       "      <td>/wiki/Zod_(Smallville)</td>\n",
       "      <td>Zod</td>\n",
       "      <td>General Zod</td>\n",
       "      <td>[/wiki/Faora_(Smallville), /wiki/Davis_Bloome_...</td>\n",
       "      <td>[]</td>\n",
       "      <td>[/wiki/Smallville_Season_11_Special_Vol_1_3Hol...</td>\n",
       "      <td>2013.0</td>\n",
       "      <td>2013.0</td>\n",
       "      <td>Zod (General Zod)</td>\n",
       "    </tr>\n",
       "    <tr>\n",
       "      <td>13185</td>\n",
       "      <td>/wiki/Zazzala_(Prime_Earth)</td>\n",
       "      <td>Zazzala</td>\n",
       "      <td>Queen Bee</td>\n",
       "      <td>[]</td>\n",
       "      <td>[]</td>\n",
       "      <td>[/wiki/Wonder_Twins_Vol_1_4A Date Which Will L...</td>\n",
       "      <td>2019.0</td>\n",
       "      <td>2019.0</td>\n",
       "      <td>Zazzala (Queen Bee)</td>\n",
       "    </tr>\n",
       "    <tr>\n",
       "      <td>13186</td>\n",
       "      <td>/wiki/Zedabon_Zarr_(Earth-One)</td>\n",
       "      <td>Zedabon Zarr</td>\n",
       "      <td>Breakaway Bandit</td>\n",
       "      <td>[]</td>\n",
       "      <td>[]</td>\n",
       "      <td>[/wiki/The_Flash_Vol_1_158Battle Against The B...</td>\n",
       "      <td>1966.0</td>\n",
       "      <td>1966.0</td>\n",
       "      <td>Zedabon Zarr (Breakaway Bandit)</td>\n",
       "    </tr>\n",
       "    <tr>\n",
       "      <td>13187</td>\n",
       "      <td>/wiki/Zotan_(Earth-S)</td>\n",
       "      <td>Zotan</td>\n",
       "      <td>Zotan</td>\n",
       "      <td>[]</td>\n",
       "      <td>[]</td>\n",
       "      <td>[/wiki/Marvel_Family_Vol_1_88The Marvel Family...</td>\n",
       "      <td>1953.0</td>\n",
       "      <td>1974.0</td>\n",
       "      <td>Zotan (Zotan)</td>\n",
       "    </tr>\n",
       "    <tr>\n",
       "      <td>13188</td>\n",
       "      <td>/wiki/Zora_Vi-Lar_(Earth-One)</td>\n",
       "      <td>Zora Vi-Lar</td>\n",
       "      <td>Black Flame</td>\n",
       "      <td>[]</td>\n",
       "      <td>[]</td>\n",
       "      <td>[/wiki/Action_Comics_Vol_1_304The Maid of Mena...</td>\n",
       "      <td>1963.0</td>\n",
       "      <td>1969.0</td>\n",
       "      <td>Zora Vi-Lar (Black Flame)</td>\n",
       "    </tr>\n",
       "  </tbody>\n",
       "</table>\n",
       "<p>13189 rows × 9 columns</p>\n",
       "</div>"
      ],
      "text/plain": [
       "                                            URL       Real Name  \\\n",
       "0                /wiki/Aaron_Hayley_(New_Earth)    Aaron Hayley   \n",
       "1      /wiki/Adam_Strange_(JSA:_The_Golden_Age)    Adam Strange   \n",
       "2                 /wiki/Alan_Barnes_(New_Earth)     Alan Barnes   \n",
       "3                    /wiki/Alan_Scott_(Earth_2)      Alan Scott   \n",
       "4              /wiki/Abigail_Arcane_(New_Earth)  Abigail Arcane   \n",
       "...                                         ...             ...   \n",
       "13184                    /wiki/Zod_(Smallville)             Zod   \n",
       "13185               /wiki/Zazzala_(Prime_Earth)         Zazzala   \n",
       "13186            /wiki/Zedabon_Zarr_(Earth-One)    Zedabon Zarr   \n",
       "13187                     /wiki/Zotan_(Earth-S)           Zotan   \n",
       "13188             /wiki/Zora_Vi-Lar_(Earth-One)     Zora Vi-Lar   \n",
       "\n",
       "          Current Alias                                          Relatives  \\\n",
       "0           Swamp Thing                                                 []   \n",
       "1          Adam Strange                                                 []   \n",
       "2            Brainstorm                                                 []   \n",
       "3         Green Lantern                         [/wiki/Sam_Zhao_(Earth_2)]   \n",
       "4        Abigail Arcane  [/wiki/Swamp_Thing_(New_Earth), /wiki/Tef%C3%A...   \n",
       "...                 ...                                                ...   \n",
       "13184       General Zod  [/wiki/Faora_(Smallville), /wiki/Davis_Bloome_...   \n",
       "13185         Queen Bee                                                 []   \n",
       "13186  Breakaway Bandit                                                 []   \n",
       "13187             Zotan                                                 []   \n",
       "13188       Black Flame                                                 []   \n",
       "\n",
       "                                         Affiliation  \\\n",
       "0                                                 []   \n",
       "1                                                 []   \n",
       "2                                                 []   \n",
       "3      [/wiki/Wonders_of_the_World, /wiki/The_Green]   \n",
       "4                                                 []   \n",
       "...                                              ...   \n",
       "13184                                             []   \n",
       "13185                                             []   \n",
       "13186                                             []   \n",
       "13187                                             []   \n",
       "13188                                             []   \n",
       "\n",
       "                                            Subcomic URL  First appearance  \\\n",
       "0                  [/wiki/Swamp_Thing:_Rootshe 1st Stor]            1998.0   \n",
       "1                       [/wiki/Golden_Age_Vol_1_4Book 4]            1994.0   \n",
       "2      [/wiki/S.T.A.R._Corps_Vol_1_6Shooting S.T.A.R....            1994.0   \n",
       "3      [/wiki/Convergence:_Booster_Gold_Vol_1_2Diverg...            2012.0   \n",
       "4      [/wiki/The_Best_of_DC_Vol_1_52Stopover in a Pl...            1973.0   \n",
       "...                                                  ...               ...   \n",
       "13184  [/wiki/Smallville_Season_11_Special_Vol_1_3Hol...            2013.0   \n",
       "13185  [/wiki/Wonder_Twins_Vol_1_4A Date Which Will L...            2019.0   \n",
       "13186  [/wiki/The_Flash_Vol_1_158Battle Against The B...            1966.0   \n",
       "13187  [/wiki/Marvel_Family_Vol_1_88The Marvel Family...            1953.0   \n",
       "13188  [/wiki/Action_Comics_Vol_1_304The Maid of Mena...            1963.0   \n",
       "\n",
       "       Last appearance                            Label  \n",
       "0               1998.0       Aaron Hayley (Swamp Thing)  \n",
       "1               1994.0      Adam Strange (Adam Strange)  \n",
       "2               1994.0         Alan Barnes (Brainstorm)  \n",
       "3               2019.0       Alan Scott (Green Lantern)  \n",
       "4               2006.0  Abigail Arcane (Abigail Arcane)  \n",
       "...                ...                              ...  \n",
       "13184           2013.0                Zod (General Zod)  \n",
       "13185           2019.0              Zazzala (Queen Bee)  \n",
       "13186           1966.0  Zedabon Zarr (Breakaway Bandit)  \n",
       "13187           1974.0                    Zotan (Zotan)  \n",
       "13188           1969.0        Zora Vi-Lar (Black Flame)  \n",
       "\n",
       "[13189 rows x 9 columns]"
      ]
     },
     "execution_count": 64,
     "metadata": {},
     "output_type": "execute_result"
    }
   ],
   "source": [
    "characters_dc[\"Label\"]= characters_dc[\"Real Name\"] +\" (\" + characters_dc[\"Current Alias\"] + \")\"\n",
    "characters_dc"
   ]
  },
  {
   "cell_type": "code",
   "execution_count": 65,
   "metadata": {},
   "outputs": [],
   "source": [
    "characters_dc = characters_dc[[\"URL\",\"Label\"]]\n",
    "characters_dc.columns = [\"Id\",\"Label\"]\n",
    "characters_dc.to_csv(\"data/nodes_dc.csv\",index = False)"
   ]
  },
  {
   "cell_type": "markdown",
   "metadata": {},
   "source": [
    "### Part 1.1: Relatives"
   ]
  },
  {
   "cell_type": "code",
   "execution_count": 73,
   "metadata": {},
   "outputs": [],
   "source": [
    "save_edge(\"dc\",\"relat\",\"50\")\n",
    "save_edge(\"dc\",\"relat\",\"90\")\n",
    "save_edge(\"dc\",\"relat\",\"\")"
   ]
  },
  {
   "cell_type": "markdown",
   "metadata": {},
   "source": [
    "### Part 1.2: Affiliations"
   ]
  },
  {
   "cell_type": "code",
   "execution_count": 74,
   "metadata": {},
   "outputs": [],
   "source": [
    "save_edge(\"dc\",\"aff\",\"50\")\n",
    "save_edge(\"dc\",\"aff\",\"90\")\n",
    "save_edge(\"dc\",\"aff\",\"\")"
   ]
  },
  {
   "cell_type": "markdown",
   "metadata": {},
   "source": [
    "### Part 1.3: Comics"
   ]
  },
  {
   "cell_type": "code",
   "execution_count": 75,
   "metadata": {},
   "outputs": [],
   "source": [
    "save_edge(\"dc\",\"comics\",\"50\")\n",
    "save_edge(\"dc\",\"comics\",\"90\")\n",
    "save_edge(\"dc\",\"comics\",\"\")"
   ]
  },
  {
   "cell_type": "markdown",
   "metadata": {},
   "source": [
    "### Part 1.4: Combinaison of all the adjacency matrices"
   ]
  },
  {
   "cell_type": "code",
   "execution_count": 125,
   "metadata": {},
   "outputs": [
    {
     "data": {
      "text/plain": [
       "[<matplotlib.lines.Line2D at 0x7ff82af64b00>]"
      ]
     },
     "execution_count": 125,
     "metadata": {},
     "output_type": "execute_result"
    },
    {
     "data": {
      "image/png": "[encoded data removed]",
      "text/plain": [
       "<Figure size 432x288 with 1 Axes>"
      ]
     },
     "metadata": {
      "needs_background": "light"
     },
     "output_type": "display_data"
    }
   ],
   "source": [
    "with open(\"data/adj_relat_dc.txt\", 'rb') as f:\n",
    "        adj_relat = pickle.load(f)\n",
    "np.fill_diagonal(adj_relat.values, 0)\n",
    "\n",
    "deg_relat = np.max(adj_relat[adj_relat.index])\n",
    "unique, counts = np.unique(deg_relat, return_counts=True)\n",
    "plt.semilogy(unique,counts)"
   ]
  },
  {
   "cell_type": "code",
   "execution_count": 130,
   "metadata": {},
   "outputs": [
    {
     "data": {
      "text/plain": [
       "[<matplotlib.lines.Line2D at 0x7ff82c9a6438>]"
      ]
     },
     "execution_count": 130,
     "metadata": {},
     "output_type": "execute_result"
    },
    {
     "data": {
      "image/png": "[encoded data removed]",
      "text/plain": [
       "<Figure size 432x288 with 1 Axes>"
      ]
     },
     "metadata": {
      "needs_background": "light"
     },
     "output_type": "display_data"
    }
   ],
   "source": [
    "with open(\"data/adj_aff_dc.txt\", 'rb') as f:\n",
    "        adj_aff = pickle.load(f)\n",
    "np.fill_diagonal(adj_aff.values, 0)\n",
    "\n",
    "deg_aff = np.max(adj_aff[adj_aff.index])\n",
    "unique, counts = np.unique(deg_aff, return_counts=True)\n",
    "plt.semilogy(unique,counts)"
   ]
  },
  {
   "cell_type": "code",
   "execution_count": 127,
   "metadata": {},
   "outputs": [
    {
     "data": {
      "text/plain": [
       "[<matplotlib.lines.Line2D at 0x7ff8524007b8>]"
      ]
     },
     "execution_count": 127,
     "metadata": {},
     "output_type": "execute_result"
    },
    {
     "data": {
      "image/png": "[encoded data removed]",
      "text/plain": [
       "<Figure size 432x288 with 1 Axes>"
      ]
     },
     "metadata": {
      "needs_background": "light"
     },
     "output_type": "display_data"
    }
   ],
   "source": [
    "with open(\"data/adj_comics_dc.txt\", 'rb') as f:\n",
    "        adj_comics = pickle.load(f)\n",
    "np.fill_diagonal(adj_comics.values, 0)\n",
    "\n",
    "deg_comics = np.max(adj_comics[adj_comics.index])\n",
    "unique, counts = np.unique(deg_comics, return_counts=True)\n",
    "plt.semilogy(unique,counts)"
   ]
  },
  {
   "cell_type": "code",
   "execution_count": 124,
   "metadata": {},
   "outputs": [],
   "source": [
    "save_tot_edges(\"dc\", \"50\")\n",
    "save_tot_edges(\"dc\", \"90\")\n",
    "save_tot_edges(\"dc\", \"\")"
   ]
  },
  {
   "cell_type": "code",
   "execution_count": null,
   "metadata": {},
   "outputs": [],
   "source": []
  }
 ],
 "metadata": {
  "kernelspec": {
   "display_name": "Python 3",
   "language": "python",
   "name": "python3"
  },
  "language_info": {
   "codemirror_mode": {
    "name": "ipython",
    "version": 3
   },
   "file_extension": ".py",
   "mimetype": "text/x-python",
   "name": "python",
   "nbconvert_exporter": "python",
   "pygments_lexer": "ipython3",
   "version": "3.7.3"
  }
 },
 "nbformat": 4,
 "nbformat_minor": 2
}
