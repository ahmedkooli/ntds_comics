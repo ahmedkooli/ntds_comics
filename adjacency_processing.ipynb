{
 "cells": [
  {
   "cell_type": "code",
   "execution_count": null,
   "metadata": {},
   "outputs": [],
   "source": [
    "# Import libraries\n",
    "import matplotlib.pyplot as plt\n",
    "import pandas as pd\n",
    "import numpy as np\n",
    "import requests\n",
    "import pickle\n",
    "import re\n",
    "import os\n",
    "import jgraph as jg\n",
    "import igraph as ig\n",
    "import cairo\n",
    "\n",
    "import networkx as nx\n",
    "\n",
    "from bs4 import BeautifulSoup\n",
    "from sys import stdout"
   ]
  },
  {
   "cell_type": "markdown",
   "metadata": {},
   "source": [
    "# Adjacency Processing\n",
    "\n",
    "**In this notebook, we are only interested in the links created between characters that are relatives. We will build an adjacency matrix based on that.**"
   ]
  },
  {
   "cell_type": "markdown",
   "metadata": {},
   "source": [
    "# Part 1: Marvel dataset"
   ]
  },
  {
   "cell_type": "code",
   "execution_count": null,
   "metadata": {
    "scrolled": true
   },
   "outputs": [],
   "source": [
    "# Loading the adjacency matrix in memory\n",
    "\n",
    "with open('data/adj_relat_marvel.txt', 'rb') as f:\n",
    "    adj_relat_marvel = pickle.load(f)"
   ]
  },
  {
   "cell_type": "code",
   "execution_count": null,
   "metadata": {},
   "outputs": [],
   "source": [
    "# convert adjacency matrix to adjacency list\n",
    "\n",
    "# def convert_matrix_to_Adj_list(self,matrix):\n",
    "#         for i in range(0,self.V):\n",
    "#         for j in range(0,self.V):\n",
    "#             if matrix[i][j]:\n",
    "#                 # print(i,j)\n",
    "#                 self.graph[i].append(j)# add an edge to the graph\n",
    "#                 self.graph[j].append(i)# add an edge to the graph"
   ]
  },
  {
   "cell_type": "code",
   "execution_count": null,
   "metadata": {},
   "outputs": [],
   "source": [
    "# convert_matrix_to_Adj_list(self, adj_relat_marvel)"
   ]
  },
  {
   "cell_type": "markdown",
   "metadata": {},
   "source": [
    "**From the adjacency matrix, we're able to construct a distance matrix**"
   ]
  },
  {
   "cell_type": "code",
   "execution_count": null,
   "metadata": {},
   "outputs": [],
   "source": [
    "# Adjacency matrix processing\n",
    "sigma = 0.5\n",
    "threshold = 0\n",
    "\n",
    "# constructing a distance matrix from the adjacency matrix\n",
    "# (j'ai trouvé cette formule du hw2, en simplifiant quelques paramètres)\n",
    "dist_relat_marvel = sigma * np.log(adj_relat_marvel)\n",
    "\n",
    "# filtering short distances\n",
    "dist_relat_marvel[dist_relat_marvel < threshold] = 0\n"
   ]
  },
  {
   "cell_type": "code",
   "execution_count": null,
   "metadata": {},
   "outputs": [],
   "source": [
    "# OPTION 1 : USING jgraph\n",
    "G = nx.DiGraph(adj_relat_marvel.values)\n",
    "jgraph.draw(G)\n",
    "\n",
    "# OPTION 2 : USING igplot\n",
    "#adj_list = adj_relat_marvel.values.tolist()\n",
    "#g = ig.Graph.Adjacency(adj_list)\n",
    "#ig.plot(g, layout = 'kk')"
   ]
  },
  {
   "cell_type": "code",
   "execution_count": null,
   "metadata": {},
   "outputs": [],
   "source": [
    "# OPTION 3 : USING networkx\n",
    "def show_graph_with_labels(adjacency_matrix, mylabels):\n",
    "    rows, cols = np.where(adjacency_matrix == 1)\n",
    "    edges = zip(rows.tolist(), cols.tolist())\n",
    "    gr = nx.Graph()\n",
    "    gr.add_edges_from(edges)\n",
    "    nx.draw(gr, node_size=500, labels=mylabels, with_labels=True)\n",
    "    plt.show()\n",
    "\n"
   ]
  },
  {
   "cell_type": "code",
   "execution_count": null,
   "metadata": {},
   "outputs": [],
   "source": [
    "# où chopper les labels ?\n",
    "show_graph_with_labels(adjacency, #make_label_dict(get_labels('mycsv.csv')))"
   ]
  },
  {
   "cell_type": "markdown",
   "metadata": {},
   "source": [
    "# Part 2: DC dataset"
   ]
  },
  {
   "cell_type": "code",
   "execution_count": null,
   "metadata": {},
   "outputs": [],
   "source": [
    "with open('data/clean_dc.txt', 'rb') as f:\n",
    "    relat_dc = pickle.load(f)"
   ]
  },
  {
   "cell_type": "code",
   "execution_count": null,
   "metadata": {},
   "outputs": [],
   "source": []
  }
 ],
 "metadata": {
  "kernelspec": {
   "display_name": "Python 3",
   "language": "python",
   "name": "python3"
  },
  "language_info": {
   "codemirror_mode": {
    "name": "ipython",
    "version": 3
   },
   "file_extension": ".py",
   "mimetype": "text/x-python",
   "name": "python",
   "nbconvert_exporter": "python",
   "pygments_lexer": "ipython3",
   "version": "3.7.3"
  }
 },
 "nbformat": 4,
 "nbformat_minor": 2
}
